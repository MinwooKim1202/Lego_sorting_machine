{
 "cells": [
  {
   "cell_type": "code",
   "execution_count": 1,
   "id": "1e1cdd35",
   "metadata": {},
   "outputs": [],
   "source": [
    "import numpy as np\n",
    "import matplotlib.pyplot as plt\n",
    "import tensorflow as tf\n",
    "%matplotlib inline\n",
    "\n",
    "from tensorflow.keras.layers import Input, Activation, Dense, Flatten, RepeatVector, Reshape\n",
    "from tensorflow.keras.layers import Conv2D, MaxPooling2D, Dropout, BatchNormalization\n",
    "from tensorflow.keras.models import Model\n",
    "from tensorflow.keras import Sequential\n",
    "from tensorflow.keras import optimizers\n",
    "from tensorflow.keras.preprocessing.image import ImageDataGenerator\n",
    "import cv2\n",
    "from tensorflow.keras.callbacks import EarlyStopping, TensorBoard\n",
    "import time\n",
    "from datetime import datetime"
   ]
  },
  {
   "cell_type": "code",
   "execution_count": 2,
   "id": "9d68c62e",
   "metadata": {},
   "outputs": [
    {
     "name": "stdout",
     "output_type": "stream",
     "text": [
      "Found 94500 images belonging to 11 classes.\n",
      "Found 18800 images belonging to 11 classes.\n"
     ]
    }
   ],
   "source": [
    "train_datagen = ImageDataGenerator(rescale=1./255)\n",
    "\n",
    "train_generator = train_datagen.flow_from_directory(\n",
    "        'dataset/train',\n",
    "        target_size=(88, 88),\n",
    "        batch_size=70,\n",
    "        color_mode=\"grayscale\",\n",
    "        class_mode='categorical')\n",
    "\n",
    "test_datagen = ImageDataGenerator(rescale=1./255)\n",
    "\n",
    "test_generator = test_datagen.flow_from_directory(\n",
    "        'dataset/valid',\n",
    "        target_size=(88, 88),    \n",
    "        batch_size=80,\n",
    "        color_mode=\"grayscale\",\n",
    "        class_mode='categorical')"
   ]
  },
  {
   "cell_type": "code",
   "execution_count": 3,
   "id": "9edf088e",
   "metadata": {
    "scrolled": true
   },
   "outputs": [
    {
     "name": "stdout",
     "output_type": "stream",
     "text": [
      "Model: \"sequential\"\n",
      "_________________________________________________________________\n",
      "Layer (type)                 Output Shape              Param #   \n",
      "=================================================================\n",
      "conv2d (Conv2D)              (None, 86, 86, 32)        320       \n",
      "_________________________________________________________________\n",
      "conv2d_1 (Conv2D)            (None, 86, 86, 32)        1056      \n",
      "_________________________________________________________________\n",
      "batch_normalization (BatchNo (None, 86, 86, 32)        128       \n",
      "_________________________________________________________________\n",
      "activation (Activation)      (None, 86, 86, 32)        0         \n",
      "_________________________________________________________________\n",
      "conv2d_2 (Conv2D)            (None, 84, 84, 32)        9248      \n",
      "_________________________________________________________________\n",
      "conv2d_3 (Conv2D)            (None, 84, 84, 32)        1056      \n",
      "_________________________________________________________________\n",
      "batch_normalization_1 (Batch (None, 84, 84, 32)        128       \n",
      "_________________________________________________________________\n",
      "activation_1 (Activation)    (None, 84, 84, 32)        0         \n",
      "_________________________________________________________________\n",
      "max_pooling2d (MaxPooling2D) (None, 42, 42, 32)        0         \n",
      "_________________________________________________________________\n",
      "dropout (Dropout)            (None, 42, 42, 32)        0         \n",
      "_________________________________________________________________\n",
      "conv2d_4 (Conv2D)            (None, 40, 40, 64)        18496     \n",
      "_________________________________________________________________\n",
      "conv2d_5 (Conv2D)            (None, 40, 40, 64)        4160      \n",
      "_________________________________________________________________\n",
      "batch_normalization_2 (Batch (None, 40, 40, 64)        256       \n",
      "_________________________________________________________________\n",
      "activation_2 (Activation)    (None, 40, 40, 64)        0         \n",
      "_________________________________________________________________\n",
      "conv2d_6 (Conv2D)            (None, 38, 38, 64)        36928     \n",
      "_________________________________________________________________\n",
      "conv2d_7 (Conv2D)            (None, 38, 38, 64)        4160      \n",
      "_________________________________________________________________\n",
      "batch_normalization_3 (Batch (None, 38, 38, 64)        256       \n",
      "_________________________________________________________________\n",
      "activation_3 (Activation)    (None, 38, 38, 64)        0         \n",
      "_________________________________________________________________\n",
      "max_pooling2d_1 (MaxPooling2 (None, 19, 19, 64)        0         \n",
      "_________________________________________________________________\n",
      "dropout_1 (Dropout)          (None, 19, 19, 64)        0         \n",
      "_________________________________________________________________\n",
      "flatten (Flatten)            (None, 23104)             0         \n",
      "_________________________________________________________________\n",
      "dense (Dense)                (None, 256)               5914880   \n",
      "_________________________________________________________________\n",
      "batch_normalization_4 (Batch (None, 256)               1024      \n",
      "_________________________________________________________________\n",
      "activation_4 (Activation)    (None, 256)               0         \n",
      "_________________________________________________________________\n",
      "dropout_2 (Dropout)          (None, 256)               0         \n",
      "_________________________________________________________________\n",
      "dense_1 (Dense)              (None, 11)                2827      \n",
      "=================================================================\n",
      "Total params: 5,994,923\n",
      "Trainable params: 5,994,027\n",
      "Non-trainable params: 896\n",
      "_________________________________________________________________\n"
     ]
    }
   ],
   "source": [
    "model = Sequential()\n",
    "model.add(Conv2D(32, kernel_size=(3, 3), input_shape=(88,88,1), kernel_initializer='he_normal'))\n",
    "model.add(Conv2D(filters = 32, kernel_size = (1,1), strides = (1,1), padding = 'valid', kernel_initializer='he_normal'))\n",
    "model.add(BatchNormalization())\n",
    "model.add(Activation('relu'))\n",
    "\n",
    "model.add(Conv2D(32, kernel_size=(3, 3), input_shape=(88,88,1), kernel_initializer='he_normal'))\n",
    "model.add(Conv2D(filters = 32, kernel_size = (1,1), strides = (1,1), padding = 'valid', kernel_initializer='he_normal'))\n",
    "model.add(BatchNormalization())\n",
    "model.add(Activation('relu'))\n",
    "\n",
    "model.add(MaxPooling2D(pool_size=(2, 2)))\n",
    "model.add(Dropout(0.7))\n",
    "\n",
    "model.add(Conv2D(64, kernel_size=(3, 3), input_shape=(88,88,1), kernel_initializer='he_normal'))\n",
    "model.add(Conv2D(filters = 64, kernel_size = (1,1), strides = (1,1), padding = 'valid', kernel_initializer='he_normal'))\n",
    "model.add(BatchNormalization())\n",
    "model.add(Activation('relu'))\n",
    "\n",
    "model.add(Conv2D(64, kernel_size=(3, 3), input_shape=(88,88,1), kernel_initializer='he_normal'))\n",
    "model.add(Conv2D(filters = 64, kernel_size = (1,1), strides = (1,1), padding = 'valid', kernel_initializer='he_normal'))\n",
    "model.add(BatchNormalization())\n",
    "model.add(Activation('relu'))\n",
    "\n",
    "model.add(MaxPooling2D(pool_size=(2, 2)))\n",
    "model.add(Dropout(0.5))\n",
    "\n",
    "model.add(Flatten())\n",
    "\n",
    "model.add(Dense(256, kernel_initializer='he_normal'))\n",
    "model.add(BatchNormalization())\n",
    "model.add(Activation('relu'))\n",
    "model.add(Dropout(0.7))\n",
    "\n",
    "model.add(Dense(11, activation='softmax', kernel_initializer='he_normal'))\n",
    "\n",
    "model.compile(loss='categorical_crossentropy', optimizer='adam', metrics=['accuracy'])\n",
    "model.summary()"
   ]
  },
  {
   "cell_type": "code",
   "execution_count": 4,
   "id": "83fa8e55",
   "metadata": {},
   "outputs": [],
   "source": [
    "early_stopping = EarlyStopping(monitor='val_loss',mode='min', patience=10)\n",
    "logdir=\"logs/\" + datetime.now().strftime(\"%Y%m%d-%H%M%S\")\n",
    "tensorboard = tf.keras.callbacks.TensorBoard(log_dir=logdir)\n",
    "\n"
   ]
  },
  {
   "cell_type": "code",
   "execution_count": 5,
   "id": "7f844b29",
   "metadata": {
    "scrolled": true
   },
   "outputs": [
    {
     "name": "stdout",
     "output_type": "stream",
     "text": [
      "WARNING:tensorflow:From <ipython-input-5-824ee9f0ae77>:7: Model.fit_generator (from tensorflow.python.keras.engine.training) is deprecated and will be removed in a future version.\n",
      "Instructions for updating:\n",
      "Please use Model.fit, which supports generators.\n",
      "Epoch 1/20\n",
      "   1/1350 [..............................] - ETA: 0s - accuracy: 0.0143 - loss: 4.1189WARNING:tensorflow:From /home/hagler/anaconda3/envs/capstone/lib/python3.5/site-packages/tensorflow/python/ops/summary_ops_v2.py:1277: stop (from tensorflow.python.eager.profiler) is deprecated and will be removed after 2020-07-01.\n",
      "Instructions for updating:\n",
      "use `tf.profiler.experimental.stop` instead.\n",
      "   2/1350 [..............................] - ETA: 3:11 - accuracy: 0.0429 - loss: 3.8035WARNING:tensorflow:Callbacks method `on_train_batch_end` is slow compared to the batch time (batch time: 0.0546s vs `on_train_batch_end` time: 0.2285s). Check your callbacks.\n",
      "1350/1350 [==============================] - 1440s 1s/step - accuracy: 0.7947 - loss: 0.5679 - val_loss: 1.5803 - val_accuracy: 0.6002\n",
      "Epoch 2/20\n",
      "1350/1350 [==============================] - 171s 126ms/step - accuracy: 0.9241 - loss: 0.2253 - val_loss: 1.3993 - val_accuracy: 0.6046\n",
      "Epoch 3/20\n",
      "1350/1350 [==============================] - 171s 127ms/step - accuracy: 0.9522 - loss: 0.1418 - val_loss: 0.3394 - val_accuracy: 0.8807\n",
      "Epoch 4/20\n",
      "1350/1350 [==============================] - 171s 127ms/step - accuracy: 0.9670 - loss: 0.0995 - val_loss: 0.2046 - val_accuracy: 0.9423\n",
      "Epoch 5/20\n",
      "1350/1350 [==============================] - 172s 127ms/step - accuracy: 0.9745 - loss: 0.0771 - val_loss: 0.8809 - val_accuracy: 0.8279\n",
      "Epoch 6/20\n",
      "1350/1350 [==============================] - 173s 128ms/step - accuracy: 0.9779 - loss: 0.0659 - val_loss: 0.3385 - val_accuracy: 0.9039\n",
      "Epoch 7/20\n",
      "1350/1350 [==============================] - 176s 130ms/step - accuracy: 0.9816 - loss: 0.0562 - val_loss: 0.1645 - val_accuracy: 0.9487\n",
      "Epoch 8/20\n",
      "1350/1350 [==============================] - 177s 131ms/step - accuracy: 0.9834 - loss: 0.0499 - val_loss: 0.3784 - val_accuracy: 0.9064\n",
      "Epoch 9/20\n",
      "1350/1350 [==============================] - 173s 128ms/step - accuracy: 0.9852 - loss: 0.0442 - val_loss: 0.1575 - val_accuracy: 0.9562\n",
      "Epoch 10/20\n",
      "1350/1350 [==============================] - 173s 128ms/step - accuracy: 0.9888 - loss: 0.0344 - val_loss: 0.6045 - val_accuracy: 0.8895\n",
      "Epoch 11/20\n",
      "1350/1350 [==============================] - 173s 128ms/step - accuracy: 0.9894 - loss: 0.0340 - val_loss: 0.0927 - val_accuracy: 0.9821\n",
      "Epoch 12/20\n",
      "1350/1350 [==============================] - 173s 128ms/step - accuracy: 0.9896 - loss: 0.0322 - val_loss: 0.1994 - val_accuracy: 0.9605\n",
      "Epoch 13/20\n",
      "1350/1350 [==============================] - 172s 127ms/step - accuracy: 0.9908 - loss: 0.0287 - val_loss: 0.0903 - val_accuracy: 0.9802\n",
      "Epoch 14/20\n",
      "1350/1350 [==============================] - 174s 129ms/step - accuracy: 0.9911 - loss: 0.0271 - val_loss: 0.2905 - val_accuracy: 0.9459\n",
      "Epoch 15/20\n",
      "1350/1350 [==============================] - 173s 128ms/step - accuracy: 0.9916 - loss: 0.0258 - val_loss: 0.6012 - val_accuracy: 0.8846\n",
      "Epoch 16/20\n",
      "1350/1350 [==============================] - 172s 128ms/step - accuracy: 0.9921 - loss: 0.0244 - val_loss: 0.1897 - val_accuracy: 0.9424\n",
      "Epoch 17/20\n",
      "1350/1350 [==============================] - 173s 128ms/step - accuracy: 0.9924 - loss: 0.0236 - val_loss: 0.0950 - val_accuracy: 0.9777\n",
      "Epoch 18/20\n",
      "1350/1350 [==============================] - 172s 128ms/step - accuracy: 0.9928 - loss: 0.0208 - val_loss: 0.5748 - val_accuracy: 0.9145\n",
      "Epoch 19/20\n",
      "1350/1350 [==============================] - 172s 128ms/step - accuracy: 0.9930 - loss: 0.0217 - val_loss: 0.2085 - val_accuracy: 0.9539\n",
      "Epoch 20/20\n",
      "1350/1350 [==============================] - 173s 128ms/step - accuracy: 0.9932 - loss: 0.0199 - val_loss: 0.0690 - val_accuracy: 0.9852\n"
     ]
    },
    {
     "data": {
      "text/plain": [
       "<tensorflow.python.keras.callbacks.History at 0x7f96f7426d30>"
      ]
     },
     "execution_count": 5,
     "metadata": {},
     "output_type": "execute_result"
    }
   ],
   "source": [
    "model.fit_generator(\n",
    "        train_generator,\n",
    "        steps_per_epoch=1350,\n",
    "        epochs=20,\n",
    "        validation_data=test_generator,\n",
    "        validation_steps=235,\n",
    "        callbacks=[early_stopping, tensorboard])"
   ]
  },
  {
   "cell_type": "code",
   "execution_count": 11,
   "id": "f7285433",
   "metadata": {},
   "outputs": [
    {
     "name": "stdout",
     "output_type": "stream",
     "text": [
      "-- Evaluate --\n",
      "accuracy: 98.50%\n"
     ]
    }
   ],
   "source": [
    "print(\"-- Evaluate --\")\n",
    "scores = model.evaluate_generator(test_generator, steps=5)\n",
    "print(\"%s: %.2f%%\" %(model.metrics_names[1], scores[1]*100))"
   ]
  },
  {
   "cell_type": "code",
   "execution_count": 12,
   "id": "b43bbf69",
   "metadata": {},
   "outputs": [
    {
     "name": "stdout",
     "output_type": "stream",
     "text": [
      "-- Predict --\n",
      "WARNING:tensorflow:From <ipython-input-12-ff8f58f7659a>:2: Model.predict_generator (from tensorflow.python.keras.engine.training) is deprecated and will be removed in a future version.\n",
      "Instructions for updating:\n",
      "Please use Model.predict, which supports generators.\n",
      "{'2': 3, '5': 6, '9': 10, '11': 2, '6': 7, '10': 1, '8': 9, '4': 5, '3': 4, '7': 8, '1': 0}\n",
      "[[0.000 0.000 0.000 ... 0.000 0.000 0.000]\n",
      " [0.000 0.000 0.000 ... 0.000 0.000 0.000]\n",
      " [0.000 0.000 0.000 ... 0.000 1.000 0.000]\n",
      " ...\n",
      " [0.000 0.000 0.000 ... 0.000 0.000 0.000]\n",
      " [0.000 0.000 0.000 ... 0.000 0.000 0.000]\n",
      " [0.000 0.000 1.000 ... 0.000 0.000 0.000]]\n"
     ]
    }
   ],
   "source": [
    "print(\"-- Predict --\")\n",
    "output = model.predict_generator(test_generator, steps=5)\n",
    "np.set_printoptions(formatter={'float': lambda x: \"{0:0.3f}\".format(x)})\n",
    "print(test_generator.class_indices)\n",
    "print(output)"
   ]
  },
  {
   "cell_type": "code",
   "execution_count": 13,
   "id": "99cdc6a4",
   "metadata": {},
   "outputs": [],
   "source": [
    "model.save(\"lego_sorter_v7.h5\")"
   ]
  }
 ],
 "metadata": {
  "kernelspec": {
   "display_name": "Python 3",
   "language": "python",
   "name": "python3"
  },
  "language_info": {
   "codemirror_mode": {
    "name": "ipython",
    "version": 3
   },
   "file_extension": ".py",
   "mimetype": "text/x-python",
   "name": "python",
   "nbconvert_exporter": "python",
   "pygments_lexer": "ipython3",
   "version": "3.5.6"
  }
 },
 "nbformat": 4,
 "nbformat_minor": 5
}
