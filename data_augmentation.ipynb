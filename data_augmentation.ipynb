{
 "cells": [
  {
   "cell_type": "code",
   "execution_count": 1,
   "id": "b1e7c67b",
   "metadata": {},
   "outputs": [],
   "source": [
    "import numpy as np\n",
    "import matplotlib.pyplot as plt\n",
    "%matplotlib inline\n",
    "import cv2"
   ]
  },
  {
   "cell_type": "code",
   "execution_count": 2,
   "id": "4fcfbd7d",
   "metadata": {},
   "outputs": [],
   "source": [
    "import glob\n",
    "import random"
   ]
  },
  {
   "cell_type": "code",
   "execution_count": 44,
   "id": "e9005023",
   "metadata": {},
   "outputs": [],
   "source": [
    "def brightness(gray, val):\n",
    "    #gray = cv2.cvtColor(img, cv2.COLOR_BGR2GRAY)\n",
    "    brightness = int(random.uniform(-val, val))\n",
    "    if brightness > 0:\n",
    "        gray = gray + brightness\n",
    "    else:\n",
    "        gray = gray - brightness\n",
    "    gray = np.clip(gray, 10, 255)\n",
    "    return gray"
   ]
  },
  {
   "cell_type": "code",
   "execution_count": 4,
   "id": "46d1763e",
   "metadata": {},
   "outputs": [],
   "source": [
    "def contrast(gray, min_val, max_val):\n",
    "    #gray = cv2.cvtColor(img, cv2.COLOR_GRAY2RGB)\n",
    "    alpha = int(random.uniform(min_val, max_val)) # Contrast control\n",
    "    adjusted = cv2.convertScaleAbs(gray, alpha=alpha)\n",
    "    return adjusted"
   ]
  },
  {
   "cell_type": "code",
   "execution_count": 5,
   "id": "3f4c30e8",
   "metadata": {},
   "outputs": [],
   "source": [
    "def fill(img, h, w):\n",
    "    img = cv2.resize(img, (h, w), cv2.INTER_CUBIC)\n",
    "    return img"
   ]
  },
  {
   "cell_type": "code",
   "execution_count": 6,
   "id": "cb0f207f",
   "metadata": {},
   "outputs": [],
   "source": [
    "def rotation(img, angle):\n",
    "    angle = int(random.uniform(-angle, angle))\n",
    "    h, w = img.shape[:2]\n",
    "    M = cv2.getRotationMatrix2D((int(w/2), int(h/2)), angle, 1)\n",
    "    img = cv2.warpAffine(img, M, (w, h))\n",
    "    return img"
   ]
  },
  {
   "cell_type": "code",
   "execution_count": 7,
   "id": "f0ed215c",
   "metadata": {},
   "outputs": [],
   "source": [
    "def vertical_shift_down(img, ratio=0.0):\n",
    "    if ratio > 1 or ratio < 0:\n",
    "        print('Value should be less than 1 and greater than 0')\n",
    "        return img\n",
    "    ratio = random.uniform(-ratio, ratio)\n",
    "    h, w = img.shape[:2]\n",
    "    to_shift = h*ratio\n",
    "    if ratio > 0:\n",
    "        img = img[:int(h-to_shift), :, :]\n",
    "    img = fill(img, h, w)\n",
    "    return img"
   ]
  },
  {
   "cell_type": "code",
   "execution_count": 8,
   "id": "fd4fa175",
   "metadata": {},
   "outputs": [],
   "source": [
    "def vertical_shift_up(img, ratio=0.0):\n",
    "    if ratio > 1 or ratio < 0:\n",
    "        print('Value should be less than 1 and greater than 0')\n",
    "        return img\n",
    "    ratio = random.uniform(0.0, ratio)\n",
    "    h, w = img.shape[:2]\n",
    "    to_shift = h*ratio\n",
    "    if ratio > 0:\n",
    "        img = img[:int(h-to_shift), :, :]\n",
    "    img = fill(img, h, w)\n",
    "    return img"
   ]
  },
  {
   "cell_type": "code",
   "execution_count": 9,
   "id": "f586dff9",
   "metadata": {},
   "outputs": [],
   "source": [
    "def horizontal_shift(img, ratio=0.0):\n",
    "    if ratio > 1 or ratio < 0:\n",
    "        print('Value should be less than 1 and greater than 0')\n",
    "        return img\n",
    "    ratio = random.uniform(-ratio, ratio)\n",
    "    h, w = img.shape[:2]\n",
    "    to_shift = w*ratio\n",
    "    if ratio > 0:\n",
    "        img = img[:, :int(w-to_shift), :]\n",
    "    if ratio < 0:\n",
    "        img = img[:, int(-1*to_shift):, :]\n",
    "    img = fill(img, h, w)\n",
    "    return img"
   ]
  },
  {
   "cell_type": "code",
   "execution_count": 10,
   "id": "bf611b8b",
   "metadata": {},
   "outputs": [],
   "source": [
    "def vertical_flip(img, flag):\n",
    "    if flag:\n",
    "        return cv2.flip(img, 0)\n",
    "    else:\n",
    "        return img"
   ]
  },
  {
   "cell_type": "code",
   "execution_count": 11,
   "id": "ab1b7a62",
   "metadata": {},
   "outputs": [],
   "source": [
    "def horizontal_flip(img, flag):\n",
    "    if flag:\n",
    "        return cv2.flip(img, 1)\n",
    "    else:\n",
    "        return img"
   ]
  },
  {
   "cell_type": "code",
   "execution_count": 50,
   "id": "3adfe7bb",
   "metadata": {},
   "outputs": [],
   "source": [
    "images = sorted(glob.glob('cropped_img/*.png'))\n",
    "i = 0"
   ]
  },
  {
   "cell_type": "code",
   "execution_count": 51,
   "id": "b8d2d88d",
   "metadata": {},
   "outputs": [],
   "source": [
    "for fname in images:\n",
    "    img = cv2.imread(fname)\n",
    "    img = cv2.resize(img, dsize=(88, 88),interpolation=cv2.INTER_LINEAR)\n",
    "    img = brightness(img, 60)\n",
    "    img = contrast(img, 1, 1.9)\n",
    "    img = horizontal_flip(img, 1)\n",
    "    img = rotation(img, 180)\n",
    "    #img = horizontal_shift(img, 0.2)\n",
    "    #if random.uniform(0,1) > 0.5:\n",
    "    #    img = vertical_flip(img, 1)\n",
    "\n",
    "    file_name = 'dataset/train/2x6_brick/img' + str(i) + '.png'\n",
    "    cv2.imwrite(file_name, img)\n",
    "    i = i + 1\n",
    "    if i > 2000:\n",
    "        break"
   ]
  },
  {
   "cell_type": "code",
   "execution_count": 52,
   "id": "d86a5ebc",
   "metadata": {},
   "outputs": [],
   "source": [
    "for fname in images:\n",
    "    img = cv2.imread(fname)\n",
    "    img = cv2.resize(img, dsize=(88, 88),interpolation=cv2.INTER_LINEAR)\n",
    "    img = brightness(img, 35)\n",
    "    img = contrast(img, 1, 1.5)\n",
    "    img = vertical_flip(img, 1)\n",
    "    img = horizontal_flip(img, 0)\n",
    "    \n",
    "    img = rotation(img, 90)\n",
    "    img = horizontal_shift(img, 0.2)\n",
    "    img = vertical_shift_up(img, 0.2)\n",
    "    file_name = 'dataset/train/2x6_brick/img' + str(i) + '.png'\n",
    "    cv2.imwrite(file_name, img)\n",
    "    i = i + 1\n",
    "    if i > 2000:\n",
    "        break"
   ]
  },
  {
   "cell_type": "code",
   "execution_count": 53,
   "id": "d8a82489",
   "metadata": {},
   "outputs": [],
   "source": [
    "for fname in images:\n",
    "    img = cv2.imread(fname)\n",
    "    img = cv2.resize(img, dsize=(88, 88),interpolation=cv2.INTER_LINEAR)\n",
    "    img = brightness(img, 15)\n",
    "    img = contrast(img, 1, 1.3)\n",
    "    img = vertical_flip(img, 1)\n",
    "    img = horizontal_flip(img, 1)\n",
    "    \n",
    "    img = rotation(img, 90)\n",
    "    #img = horizontal_shift(img, 0.2)\n",
    "    #img = vertical_shift_up(img, 0.2)\n",
    "    file_name = 'dataset/train/2x6_brick/img' + str(i) + '.png'\n",
    "    cv2.imwrite(file_name, img)\n",
    "    i = i + 1\n",
    "    if i >= 2000:\n",
    "        break"
   ]
  },
  {
   "cell_type": "code",
   "execution_count": 54,
   "id": "e6586fa7",
   "metadata": {},
   "outputs": [],
   "source": [
    "for fname in images:\n",
    "    img = cv2.imread(fname)\n",
    "    img = cv2.resize(img, dsize=(88, 88),interpolation=cv2.INTER_LINEAR)\n",
    "    img = brightness(img, 5)\n",
    "    img = contrast(img, 1, 1.1)\n",
    "    \n",
    "    img = rotation(img, 90)\n",
    "    #img = horizontal_shift(img, 0.2)\n",
    "    #img = vertical_shift_up(img, 0.2)\n",
    "    file_name = 'dataset/train/2x6_brick/img' + str(i) + '.png'\n",
    "    cv2.imwrite(file_name, img)\n",
    "    i = i + 1\n",
    "    if i >= 3000:\n",
    "        break"
   ]
  },
  {
   "cell_type": "markdown",
   "id": "a87cce0b",
   "metadata": {},
   "source": [
    "### valid pre-processing(resize + etc)"
   ]
  },
  {
   "cell_type": "code",
   "execution_count": 17,
   "id": "9e17c554",
   "metadata": {},
   "outputs": [],
   "source": [
    "images = sorted(glob.glob('cropped_img/*.png'))\n",
    "i = 0"
   ]
  },
  {
   "cell_type": "code",
   "execution_count": 18,
   "id": "da4fe659",
   "metadata": {},
   "outputs": [],
   "source": [
    "for fname in images:\n",
    "    img = cv2.imread(fname)\n",
    "    img = cv2.resize(img, dsize=(88, 88),interpolation=cv2.INTER_LINEAR)\n",
    "    file_name = 'dataset/valid/1x1_brick/img' + str(i) + '.png'\n",
    "    cv2.imwrite(file_name, img)\n",
    "    i = i + 1\n",
    "    if i > 1600:\n",
    "        break"
   ]
  }
 ],
 "metadata": {
  "kernelspec": {
   "display_name": "Python 3",
   "language": "python",
   "name": "python3"
  },
  "language_info": {
   "codemirror_mode": {
    "name": "ipython",
    "version": 3
   },
   "file_extension": ".py",
   "mimetype": "text/x-python",
   "name": "python",
   "nbconvert_exporter": "python",
   "pygments_lexer": "ipython3",
   "version": "3.5.6"
  }
 },
 "nbformat": 4,
 "nbformat_minor": 5
}
